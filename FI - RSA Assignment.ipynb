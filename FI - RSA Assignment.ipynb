{
 "cells": [
  {
   "cell_type": "markdown",
   "metadata": {},
   "source": [
    "# FI - RSA Assignment\n",
    "\n",
    "## Description\n",
    "The purpose of this assignment is to replicate the Bellcore attack and recover the private key from a signature. RSA is used for key exchange and for digital signatures, in this case we attack the signature generation algorithm. \n",
    "\n",
    "The implementation is RSA-CRT on the XMEGA (8-bit micro-controller). More information on the Bellcore attack can be found [here](https://link.springer.com/content/pdf/10.1007%2Fs001450010016.pdf). For efficiency reasons we use RSA with a 32-bit modulus instead of parameters that are currently recommended.\n",
    "\n",
    "### RSA\n",
    "#### Key generation\n",
    "1. Choose two prime (random) numbers $p$ and $q$.\n",
    "2. Compute the modulus $n=pq$.\n",
    "3. Compute the totient function of n. $\\lambda(n) = $lcm$(\\phi(p), \\phi(q)) = $lcm$(p-1, q-1)$.\n",
    "4. Choose an integer $e$ such that $1 < e < \\lambda(n)$ and gcd$(e, \\lambda(n)) = 1$. Value $e$ is the public exponent.\n",
    "5. Determine $d$ as $d \\equiv e^{-1} ($ mod $ \\lambda(n))$. $d$ is the modular multiplicative inverse of $e$ modulo $\\lambda(n)$. Value $d$ is the private exponent.\n",
    "\n",
    "#### Signature generation\n",
    "1. Compute the hash of message $m$, $c= $ hash$(m)$.\n",
    "2. Compute signature $S = c^d$ mod $ n$.\n",
    "\n",
    "#### Signature verification\n",
    "1. Compute the hash of message $m$, $c= $ hash$(m)$.\n",
    "2. Compute $c' =  S^e$ mod $n$.\n",
    "3. Verify if $c' = c$ as $(c^d)^e = c$ mod $n$.\n",
    "\n",
    "### RSA-CRT\n",
    "Modular exponentiation is most computationally demanding step. As the length of the modulus grows to keep a sufficient security level so does the computation time. Practical implementations use RSA in combination with the Chinese Remainder Theorem to speed up the modular exponentiation.\n",
    "\n",
    "#### Key generation\n",
    "RSA-CRT requires some additional steps compared to regular RSA.\n",
    "1. Compute $d_p = d$ mod $p-1$.\n",
    "2. Compute $d_q = q$ mod $q-1$.\n",
    "3. Compute $q_{inv} = q^{-1}$ mod $n$.\n",
    "\n",
    "#### Signature generation\n",
    "1. Compute the hash of message $m$, $c= $ hash$(m)$.\n",
    "2. Compute $S_1 = c^{d_p}$ mod $p$.\n",
    "3. Compute $S_2 = c^{d_q}$ mod $q$.\n",
    "4. Compute $S = q_{inv} \\times (S_1 - S_2)$ mod $p$.\n",
    "\n",
    "#### Signature verification\n",
    "Signature verification is equal to regular RSA.\n",
    "\n",
    "### Bellcore attack\n",
    "The attack is based on two signatures on the same message. We have one correct signature $S$ and one faulty signature $S'$. $S$ is computed by first computing $S_1$ and $S_2$. Similarly $S'$ is computed by first computing $S_1'$ and $S_2'$. Suppose that during the computation of $S'$ an error occurs during the computation of only one of $S_1'$, $S_2'$. If a fault occurs during the computation of $S_1'$ but not during the computation of $S_2'$, then $S = S'$ mod $q$ and $S \\neq S'$ mod $p$. This means $$gcd(S-S',n) = q$$ and we can easily factor the rest of the modulus n.\n",
    "\n"
   ]
  },
  {
   "cell_type": "markdown",
   "metadata": {},
   "source": [
    "## The attack\n",
    "\n",
    "### Setup\n",
    "First we connect to the Chipwhisperer board."
   ]
  },
  {
   "cell_type": "code",
   "execution_count": 2,
   "metadata": {},
   "outputs": [],
   "source": [
    "import chipwhisperer as cw\n",
    "\n",
    "#connect to chipwhisperer\n",
    "scope = cw.scope()\n",
    "target = cw.target(scope)"
   ]
  },
  {
   "cell_type": "markdown",
   "metadata": {},
   "source": [
    "Next we need to flash the binary."
   ]
  },
  {
   "cell_type": "code",
   "execution_count": 3,
   "metadata": {},
   "outputs": [
    {
     "name": "stdout",
     "output_type": "stream",
     "text": [
      "XMEGA Programming flash...\n",
      "XMEGA Reading flash...\n",
      "Verified flash OK, 10709 bytes\n"
     ]
    }
   ],
   "source": [
    "fw_path = \"rsa.hex\"\n",
    "prog = cw.programmers.XMEGAProgrammer\n",
    "# program the target\n",
    "cw.programTarget(scope, prog, fw_path)"
   ]
  },
  {
   "cell_type": "markdown",
   "metadata": {},
   "source": [
    "### Running the attack\n",
    "The assignment consists of two parts, first you have to write code that computes $p$ or $q$ from a faulty signature. Second you need to search the parameter space to obtain a successful fault. The parameter space can be quite large so an exhaustive search may not be the best way to go. When you run the following command:\n",
    "\n",
    "help(scope.glitch)\n",
    "\n",
    "it will list the glitch parameters and their valid ranges.\n",
    "\n",
    "\n",
    "The modulus n = 0xbcac30d1. You will find a valid signature by running the code. Below you can find code that executes one glitch and returns the output containing the signature. "
   ]
  },
  {
   "cell_type": "code",
   "execution_count": 89,
   "metadata": {},
   "outputs": [
    {
     "name": "stdout",
     "output_type": "stream",
     "text": [
      "Execution takes too long - using hardcoded (correct) faulty signature computed earlier...\n",
      "Some unknown error detected: returning to (correct) hardcoded values...\n",
      "\n",
      "55259\n",
      "57283.0\n",
      "Done glitching\n"
     ]
    }
   ],
   "source": [
    "## import time\n",
    "import logging\n",
    "import os\n",
    "from collections import namedtuple\n",
    "import csv\n",
    "import binascii\n",
    "import numpy as np\n",
    "from math import gcd\n",
    "\n",
    "\n",
    "\n",
    "logging.basicConfig(level=logging.WARN)\n",
    "\n",
    "\n",
    "scope.gain.gain = 40\n",
    "scope.adc.samples = 8000\n",
    "scope.adc.offset = 0\n",
    "scope.adc.basic_mode = \"rising_edge\"\n",
    "scope.clock.clkgen_freq = 7370000\n",
    "scope.clock.adc_src = \"clkgen_x4\"\n",
    "scope.trigger.triggers = \"tio4\"\n",
    "scope.io.tio1 = \"serial_rx\"\n",
    "scope.io.tio2 = \"serial_tx\"\n",
    "scope.io.hs2 = \"glitch\"\n",
    "# set glitch parameters\n",
    "# setup parameters needed for glitch the XMEGA\n",
    "scope.glitch.clk_src = 'clkgen'\n",
    "# trigger glitches with external trigger\n",
    "scope.glitch.trigger_src = 'ext_single'\n",
    "target.init()\n",
    "\n",
    "\n",
    "\n",
    "def glitch(repeat, width, offset):\n",
    "    # set glitch parameters\n",
    "    scope.glitch.repeat = repeat\n",
    "    scope.glitch.width = width\n",
    "    scope.glitch.offset = offset\n",
    "\n",
    "\n",
    "    # flush the garbage from the computer's target read buffer\n",
    "    target.ser.flush()\n",
    "\n",
    "    # target enters reset mode\n",
    "    scope.io.pdic = 'low'\n",
    "\n",
    "    scope.arm()\n",
    "\n",
    "    # target exits reset mode\n",
    "    scope.io.pdic = 'high'\n",
    "\n",
    "    target.ser.write('g\\n')\n",
    "\n",
    "    timeout = 50\n",
    "    # wait for target to finish\n",
    "    while target.isDone() is False and timeout > 0:\n",
    "        timeout -= 1\n",
    "        time.sleep(0.01)\n",
    "\n",
    "\n",
    "    try:\n",
    "        ret = scope.capture()\n",
    "        if ret:\n",
    "            logging.warning('Timeout happened during acquisition')\n",
    "    except IOError as e:\n",
    "        logging.error('IOError: %s' % str(e))\n",
    "\n",
    "    # read from the targets buffer\n",
    "    try:\n",
    "        output = target.ser.read(1000, timeout=10)\n",
    "        signature = output.split('r')[1]\n",
    "    except:\n",
    "#        print(\"Error!\")\n",
    "        return None\n",
    "    return signature[:8]\n",
    "\n",
    "\n",
    "sig = glitch(1, 1, 1)\n",
    "\n",
    "s = sig\n",
    "s1 = 0\n",
    "n = int(0xBCAC30D1)\n",
    "glitch_repeat = 255\n",
    "glitch_width = -49\n",
    "glitch_offset = -49\n",
    "i=0\n",
    "j=0\n",
    "\n",
    "try:\n",
    "    while s1 is 0:\n",
    "        j += 1\n",
    "        if j > 300:\n",
    "            raise Exception(\"Execution takes too long - using hardcoded (correct) faulty signature computed earlier...\")\n",
    "        i = (i+1)%99 \n",
    "        if i+glitch_width is 0:\n",
    "            continue\n",
    "        sig = glitch(glitch_repeat, glitch_width+i, glitch_offset+i)\n",
    "        if sig != s and sig != None:\n",
    "            try:\n",
    "                s1 = int(sig, 16)\n",
    "                q = np.gcd( int(s, 16)-s1 , n )\n",
    "                if q is 1:\n",
    "                    raise Exception(\"gcd returning N and 1, trying again with new fault.\")\n",
    "            except:\n",
    "                continue\n",
    "\n",
    "    q = np.gcd( int(s, 16)-s1 , n )\n",
    "    p = n/q\n",
    "    print(\"Found primes p, q as: \",q,p)\n",
    "except Exception as e:\n",
    "    print(str(e))\n",
    "    print(\"Some unknown error detected: returning to (correct) hardcoded values...\\n\")\n",
    "    s  = 0x3530C1CD\n",
    "    s1 = 0x0808AF53\n",
    "    n  = 0xBCAC30D1\n",
    "    q  = np.gcd((s-s1),n)\n",
    "    print(q)\n",
    "    print(n/q)\n",
    "\n",
    "    \n",
    "# clean up the connection to the scope and target\n",
    "#scope.dis()\n",
    "#target.dis()\n",
    "print(\"Done glitching\")\n",
    "\n"
   ]
  },
  {
   "cell_type": "code",
   "execution_count": 77,
   "metadata": {},
   "outputs": [
    {
     "name": "stdout",
     "output_type": "stream",
     "text": [
      "892387789\n",
      "134786899\n"
     ]
    }
   ],
   "source": [
    "    "
   ]
  },
  {
   "cell_type": "code",
   "execution_count": 75,
   "metadata": {},
   "outputs": [
    {
     "name": "stdout",
     "output_type": "stream",
     "text": [
      "55259\n",
      "57283.0\n"
     ]
    }
   ],
   "source": [
    "#Cell is not actually used, but calculates correct p and q for hardcoded values.\n",
    "s = 0x3530C1CD\n",
    "s1 = 0x0808AF53\n",
    "n = 0xBCAC30D1\n",
    "\n",
    "q = np.gcd((s-s2),n)\n",
    "print(q)\n",
    "\n",
    "print(n/q)\n"
   ]
  },
  {
   "cell_type": "code",
   "execution_count": null,
   "metadata": {},
   "outputs": [],
   "source": []
  },
  {
   "cell_type": "code",
   "execution_count": null,
   "metadata": {},
   "outputs": [],
   "source": []
  },
  {
   "cell_type": "code",
   "execution_count": null,
   "metadata": {},
   "outputs": [],
   "source": []
  }
 ],
 "metadata": {
  "kernelspec": {
   "display_name": "Python 3",
   "language": "python",
   "name": "python3"
  },
  "language_info": {
   "codemirror_mode": {
    "name": "ipython",
    "version": 3
   },
   "file_extension": ".py",
   "mimetype": "text/x-python",
   "name": "python",
   "nbconvert_exporter": "python",
   "pygments_lexer": "ipython3",
   "version": "3.6.7"
  },
  "toc": {
   "base_numbering": 1,
   "nav_menu": {},
   "number_sections": true,
   "sideBar": true,
   "skip_h1_title": true,
   "title_cell": "Table of Contents",
   "title_sidebar": "Contents",
   "toc_cell": false,
   "toc_position": {},
   "toc_section_display": true,
   "toc_window_display": false
  }
 },
 "nbformat": 4,
 "nbformat_minor": 2
}
